{
 "cells": [
  {
   "cell_type": "code",
   "execution_count": 21,
   "metadata": {},
   "outputs": [],
   "source": [
    "import csv\n",
    "lines = [line.rstrip('\\n') for line in open('usn')]\n",
    "dic={}\n",
    "for i in lines:\n",
    "    dic[i.split()[0]]=(' '.join(i.split()[1:]));\n",
    "with open('usnmap.csv','w') as f:\n",
    "    w = csv.writer(f)\n",
    "    w.writerows(dic.items())"
   ]
  },
  {
   "cell_type": "code",
   "execution_count": 25,
   "metadata": {},
   "outputs": [],
   "source": [
    "\n",
    "with open('./usnmap','w') as f:\n",
    "    keys,values=zip(*dic.items())\n",
    "    print(\", \".join(keys),file=f)\n",
    "    print(\", \".join(values),file=f)\n",
    "    f.close()\n",
    "    #arr[f.readline().split()[0]]=(' '.join(f.readline().split()[1:]));\n"
   ]
  },
  {
   "cell_type": "code",
   "execution_count": null,
   "metadata": {},
   "outputs": [],
   "source": []
  }
 ],
 "metadata": {
  "kernelspec": {
   "display_name": "Python 3",
   "language": "python",
   "name": "python3"
  },
  "language_info": {
   "codemirror_mode": {
    "name": "ipython",
    "version": 3
   },
   "file_extension": ".py",
   "mimetype": "text/x-python",
   "name": "python",
   "nbconvert_exporter": "python",
   "pygments_lexer": "ipython3",
   "version": "3.6.5"
  }
 },
 "nbformat": 4,
 "nbformat_minor": 2
}
